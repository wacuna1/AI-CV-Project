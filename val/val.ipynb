{
 "cells": [
  {
   "cell_type": "code",
   "execution_count": null,
   "metadata": {},
   "outputs": [],
   "source": [
    "%pip install ultralytics --quiet --progress-bar off\n",
    "import os\n",
    "import requests\n",
    "from ultralytics import YOLO\n",
    "\n",
    "yaml_file = \"coco.yaml\"\n",
    "if not os.path.exists(yaml_file):\n",
    "    try:\n",
    "        response = requests.get(\"https://raw.githubusercontent.com/ultralytics/ultralytics/main/ultralytics/cfg/datasets/coco.yaml\")\n",
    "        response.raise_for_status()\n",
    "        with open(yaml_file, \"wb\") as file:\n",
    "            file.write(response.content)\n",
    "    except Exception as e:\n",
    "        raise Exception(f\"Failed to download {yaml_file}: {e}\")\n",
    "\n",
    "model_url = \"https://huggingface.co/aai521-group6/yolov8x-coco/resolve/main/yolov8x-coco.pt?download=true\"\n",
    "local_model_path = \"yolov8x-coco.pt\"\n",
    "response = requests.get(model_url)\n",
    "if response.status_code == 200:\n",
    "    with open(local_model_path, \"wb\") as f:\n",
    "        f.write(response.content)\n",
    "    print(\"Model downloaded successfully.\")\n",
    "else:\n",
    "    raise Exception(f\"Failed to download model: Status code {response.status_code}\")\n",
    "model = YOLO(local_model_path)\n",
    "metrics = model.val(data=\"coco.yaml\", save_json=True, save_hybrid=True, plots=True)\n",
    "metrics.box.map"
   ]
  }
 ],
 "metadata": {
  "language_info": {
   "name": "python"
  }
 },
 "nbformat": 4,
 "nbformat_minor": 2
}
